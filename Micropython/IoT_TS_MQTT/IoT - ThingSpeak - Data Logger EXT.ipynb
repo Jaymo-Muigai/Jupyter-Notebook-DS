{
 "cells": [
  {
   "cell_type": "markdown",
   "metadata": {},
   "source": [
    "# Connecting with ThingSpeak"
   ]
  },
  {
   "cell_type": "markdown",
   "metadata": {},
   "source": [
    "### The HW"
   ]
  },
  {
   "cell_type": "markdown",
   "metadata": {},
   "source": [
    "<p><img src=\"https://github.com/Mjrovai/Python4DS/blob/master/Micropython/IoT_TS_MQTT/electrDiagr.png?raw=true\"> </p>\n",
    "\n",
    "\n"
   ]
  },
  {
   "cell_type": "markdown",
   "metadata": {},
   "source": [
    "### Connect with ESP8266 via serial port"
   ]
  },
  {
   "cell_type": "code",
   "execution_count": 1,
   "metadata": {},
   "outputs": [
    {
     "name": "stdout",
     "output_type": "stream",
     "text": [
      "\u001b[34mConnecting to --port=/dev/tty.SLAB_USBtoUART --baud=115200 \u001b[0m\n",
      "\u001b[34mReady.\n",
      "\u001b[0m"
     ]
    }
   ],
   "source": [
    "%serialconnect to --port=/dev/tty.SLAB_USBtoUART --baud=115200"
   ]
  },
  {
   "cell_type": "markdown",
   "metadata": {},
   "source": [
    "### DHT Sensor"
   ]
  },
  {
   "cell_type": "code",
   "execution_count": 2,
   "metadata": {},
   "outputs": [],
   "source": [
    "from dht import DHT22\n",
    "from machine import Pin\n",
    "dht22 = DHT22(Pin(12))"
   ]
  },
  {
   "cell_type": "code",
   "execution_count": 3,
   "metadata": {},
   "outputs": [],
   "source": [
    "# Function to read DHT\n",
    "def readDht():\n",
    "    dht22.measure()\n",
    "    return dht22.temperature(), dht22.humidity()"
   ]
  },
  {
   "cell_type": "code",
   "execution_count": 4,
   "metadata": {},
   "outputs": [
    {
     "name": "stdout",
     "output_type": "stream",
     "text": [
      "(19.1, 37.0)\r\n"
     ]
    }
   ],
   "source": [
    "# test DHT function\n",
    "print (readDht())"
   ]
  },
  {
   "cell_type": "markdown",
   "metadata": {},
   "source": [
    "### DS18B20 sensor"
   ]
  },
  {
   "cell_type": "code",
   "execution_count": 5,
   "metadata": {},
   "outputs": [],
   "source": [
    "# Import libraries \n",
    "import onewire, ds18x20\n",
    "import time"
   ]
  },
  {
   "cell_type": "code",
   "execution_count": 6,
   "metadata": {},
   "outputs": [],
   "source": [
    "# Define which pin the 1-wire device will be connected ==> pin 2 (D4)\n",
    "dat = Pin(2)"
   ]
  },
  {
   "cell_type": "code",
   "execution_count": 7,
   "metadata": {},
   "outputs": [],
   "source": [
    "# create the onewire object\n",
    "ds = ds18x20.DS18X20(onewire.OneWire(dat))"
   ]
  },
  {
   "cell_type": "code",
   "execution_count": 8,
   "metadata": {},
   "outputs": [
    {
     "name": "stdout",
     "output_type": "stream",
     "text": [
      "found devices: [bytearray(b'(\\xff\\xd3\\xe6a\\x16\\x041')]\r\n"
     ]
    }
   ],
   "source": [
    "# scan for devices on the bus\n",
    "sensors = ds.scan()\n",
    "print('found devices:', sensors)"
   ]
  },
  {
   "cell_type": "code",
   "execution_count": 9,
   "metadata": {},
   "outputs": [],
   "source": [
    "# function to read DS18B20 \n",
    "def readDs(): \n",
    "    ds.convert_temp()\n",
    "    time.sleep_ms(750)\n",
    "    return round(ds.read_temp(sensors[0]), 1)"
   ]
  },
  {
   "cell_type": "code",
   "execution_count": 10,
   "metadata": {},
   "outputs": [
    {
     "name": "stdout",
     "output_type": "stream",
     "text": [
      "17.9\r\n"
     ]
    }
   ],
   "source": [
    "# test readDs function\n",
    "print(readDs())"
   ]
  },
  {
   "cell_type": "markdown",
   "metadata": {},
   "source": [
    "### LDR Sensor"
   ]
  },
  {
   "cell_type": "code",
   "execution_count": 11,
   "metadata": {},
   "outputs": [],
   "source": [
    "# import library\n",
    "from machine import ADC"
   ]
  },
  {
   "cell_type": "code",
   "execution_count": 12,
   "metadata": {},
   "outputs": [],
   "source": [
    "# Define object\n",
    "adc = ADC(0)"
   ]
  },
  {
   "cell_type": "code",
   "execution_count": 13,
   "metadata": {},
   "outputs": [
    {
     "name": "stdout",
     "output_type": "stream",
     "text": [
      "667\r\n"
     ]
    }
   ],
   "source": [
    "print(adc.read())"
   ]
  },
  {
   "cell_type": "code",
   "execution_count": 14,
   "metadata": {},
   "outputs": [],
   "source": [
    "#function to read luminosity\n",
    "def readLdr():\n",
    "    lumPerct = (adc.read()-40)*(10/86) # convert in percentage (\"map\")\n",
    "    return round(lumPerct)"
   ]
  },
  {
   "cell_type": "code",
   "execution_count": 15,
   "metadata": {},
   "outputs": [
    {
     "name": "stdout",
     "output_type": "stream",
     "text": [
      "73\r\n"
     ]
    }
   ],
   "source": [
    "# test LDR read function\n",
    "print (readLdr())"
   ]
  },
  {
   "cell_type": "markdown",
   "metadata": {},
   "source": [
    "### Button (Digital Input)"
   ]
  },
  {
   "cell_type": "code",
   "execution_count": 16,
   "metadata": {},
   "outputs": [],
   "source": [
    "# define pin 13 as an input and activate an internal Pull-up resistor:\n",
    "button = Pin(13, Pin.IN, Pin.PULL_UP)"
   ]
  },
  {
   "cell_type": "code",
   "execution_count": 17,
   "metadata": {},
   "outputs": [],
   "source": [
    "# Function to read button state:\n",
    "def readBut():\n",
    "        return button.value()"
   ]
  },
  {
   "cell_type": "code",
   "execution_count": 18,
   "metadata": {},
   "outputs": [
    {
     "name": "stdout",
     "output_type": "stream",
     "text": [
      "1\r\n"
     ]
    }
   ],
   "source": [
    "# test button read function\n",
    "print (readBut())"
   ]
  },
  {
   "cell_type": "markdown",
   "metadata": {},
   "source": [
    "### Define Function to collect sensor data"
   ]
  },
  {
   "cell_type": "code",
   "execution_count": 19,
   "metadata": {},
   "outputs": [],
   "source": [
    "def colectData():\n",
    "    temp, hum, = readDht()\n",
    "    extTemp = readDs()\n",
    "    lum = readLdr()\n",
    "    butSts = readBut()\n",
    "    return temp, hum, extTemp, lum, butSts"
   ]
  },
  {
   "cell_type": "code",
   "execution_count": 20,
   "metadata": {},
   "outputs": [
    {
     "name": "stdout",
     "output_type": "stream",
     "text": [
      "(18.1, 39.1, 17.9, 73, 1)\r\n"
     ]
    }
   ],
   "source": [
    "# test function\n",
    "print(colectData())"
   ]
  },
  {
   "cell_type": "markdown",
   "metadata": {},
   "source": [
    "### Displaying Data on OLED"
   ]
  },
  {
   "cell_type": "code",
   "execution_count": 21,
   "metadata": {},
   "outputs": [],
   "source": [
    "# import library and create object i2c\n",
    "from machine import I2C\n",
    "i2c = I2C(scl=Pin(5), sda=Pin(4))"
   ]
  },
  {
   "cell_type": "code",
   "execution_count": 22,
   "metadata": {},
   "outputs": [],
   "source": [
    "# import library and create object oled\n",
    "import ssd1306\n",
    "i2c = I2C(scl=Pin(5), sda=Pin(4))\n",
    "oled = ssd1306.SSD1306_I2C(128, 64, i2c, 0x3c)"
   ]
  },
  {
   "cell_type": "code",
   "execution_count": 23,
   "metadata": {},
   "outputs": [],
   "source": [
    "# test OLED\n",
    "oled.fill(0)\n",
    "oled.text(\"Hello esp8266\", 0, 0)\n",
    "oled.show()"
   ]
  },
  {
   "cell_type": "code",
   "execution_count": 24,
   "metadata": {},
   "outputs": [],
   "source": [
    "# Read Sensors\n",
    "temp, hum, extTemp, lum, butSts = colectData()"
   ]
  },
  {
   "cell_type": "code",
   "execution_count": 25,
   "metadata": {},
   "outputs": [],
   "source": [
    "# Show data on display once \n",
    "oled.fill(0)\n",
    "oled.text(\"Temp:    \" + str(temp) + \"oC\", 0, 4)\n",
    "oled.text(\"Hum:     \" + str(hum) + \"%\",0, 16)\n",
    "oled.text(\"ExtTemp: \" + str(extTemp) + \"oC\", 0, 29)\n",
    "oled.text(\"Lumin:   \" + str(lum) + \"%\", 0, 43)\n",
    "oled.text(\"Button:  \" + str(butSts), 0, 57)\n",
    "oled.show()"
   ]
  },
  {
   "cell_type": "code",
   "execution_count": 26,
   "metadata": {},
   "outputs": [],
   "source": [
    "# create a function to display data:\n",
    "def displayData(temp, hum, extTemp, lum, butSts):\n",
    "    oled.fill(0)\n",
    "    oled.text(\"Temp:    \" + str(temp) + \"oC\", 0, 4)\n",
    "    oled.text(\"Hum:     \" + str(hum) + \"%\",0, 16)\n",
    "    oled.text(\"ExtTemp: \" + str(extTemp) + \"oC\", 0, 29)\n",
    "    oled.text(\"Lumin:   \" + str(lum) + \"%\", 0, 43)\n",
    "    oled.text(\"Button:  \" + str(butSts), 0, 57)\n",
    "    oled.show()"
   ]
  },
  {
   "cell_type": "code",
   "execution_count": 27,
   "metadata": {},
   "outputs": [],
   "source": [
    "# define pin 0 as output\n",
    "led = Pin(0, Pin.OUT)"
   ]
  },
  {
   "cell_type": "code",
   "execution_count": 28,
   "metadata": {},
   "outputs": [],
   "source": [
    "# display data with a function\n",
    "led.on()\n",
    "temp, hum, extTemp, lum, butSts = colectData()\n",
    "displayData(temp, hum, extTemp, lum, butSts)\n",
    "led.off()"
   ]
  },
  {
   "cell_type": "code",
   "execution_count": 29,
   "metadata": {},
   "outputs": [],
   "source": [
    "# Clear display :\n",
    "def displayClear():\n",
    "    oled.fill(0)\n",
    "    oled.show()"
   ]
  },
  {
   "cell_type": "code",
   "execution_count": 30,
   "metadata": {},
   "outputs": [],
   "source": [
    "from time import sleep"
   ]
  },
  {
   "cell_type": "code",
   "execution_count": 31,
   "metadata": {},
   "outputs": [],
   "source": [
    "# create a blink function\n",
    "def blinkLed(num):\n",
    "    for i in range(0, num):\n",
    "        led.on()\n",
    "        sleep(0.5)\n",
    "        led.off()\n",
    "        sleep(0.5)"
   ]
  },
  {
   "cell_type": "code",
   "execution_count": 32,
   "metadata": {},
   "outputs": [],
   "source": [
    "PUB_TIME_SEC = 10"
   ]
  },
  {
   "cell_type": "code",
   "execution_count": 33,
   "metadata": {},
   "outputs": [
    {
     "name": "stdout",
     "output_type": "stream",
     "text": [
      "....."
     ]
    }
   ],
   "source": [
    "# loop getting data until button is pressed\n",
    "while button.value():\n",
    "        led.on()\n",
    "        temp, hum, extTemp, lum, butSts = colectData()\n",
    "        displayData(temp, hum, extTemp, lum, butSts)\n",
    "        led.off()\n",
    "        time.sleep(PUB_TIME_SEC)\n",
    "blinkLed(3)\n",
    "displayClear()"
   ]
  },
  {
   "cell_type": "markdown",
   "metadata": {},
   "source": [
    "### Connect with WiFi"
   ]
  },
  {
   "cell_type": "code",
   "execution_count": 34,
   "metadata": {},
   "outputs": [],
   "source": [
    "import network\n",
    "WiFi_SSID = \"YOUR SSID\"\n",
    "WiFi_PASS = \"YOUR PASSWORD\""
   ]
  },
  {
   "cell_type": "code",
   "execution_count": 35,
   "metadata": {},
   "outputs": [],
   "source": [
    "# Function to connect to local WiFi\n",
    "def do_connect():\n",
    "    wlan = network.WLAN(network.STA_IF)\n",
    "    wlan.active(True)\n",
    "    if not wlan.isconnected():\n",
    "        print('connecting to network...')\n",
    "        wlan.connect(WiFi_SSID, WiFi_SSID)\n",
    "        while not wlan.isconnected():\n",
    "            pass\n",
    "    print('network config:', wlan.ifconfig())"
   ]
  },
  {
   "cell_type": "code",
   "execution_count": 36,
   "metadata": {},
   "outputs": [
    {
     "name": "stdout",
     "output_type": "stream",
     "text": [
      "network config: ('10.0.1.2', '255.255.255.0', '10.0.1.1', '10.0.1.1')\r\n"
     ]
    }
   ],
   "source": [
    "# connect to local WiFi\n",
    "do_connect()"
   ]
  },
  {
   "cell_type": "markdown",
   "metadata": {},
   "source": [
    "## Connect with ThingSpeak via MTQQ"
   ]
  },
  {
   "cell_type": "markdown",
   "metadata": {},
   "source": [
    "MTTQ protocol code, based on examples created by Mike Teachman:\n",
    "<p>https://github.com/MikeTeachman/micropython-thingspeak-mqtt-esp8266</p>"
   ]
  },
  {
   "cell_type": "markdown",
   "metadata": {},
   "source": [
    "The MQTT protocol is supported in a built-in library in the Micropython binaries -- this protocol can be used send data from your ESP8266, over WIFI, to a free cloud database"
   ]
  },
  {
   "cell_type": "markdown",
   "metadata": {},
   "source": [
    "### Configurate & Initiate ThingSpeak Channel and MQTT "
   ]
  },
  {
   "cell_type": "markdown",
   "metadata": {},
   "source": [
    "<p><img src=\"https://blogs.mathworks.com/iot/files/2017/01/ThingSpeak_MQTT_Broker.png?raw=true\"></p>\n"
   ]
  },
  {
   "cell_type": "code",
   "execution_count": 37,
   "metadata": {},
   "outputs": [],
   "source": [
    "from umqtt.simple import MQTTClient"
   ]
  },
  {
   "cell_type": "code",
   "execution_count": 38,
   "metadata": {},
   "outputs": [],
   "source": [
    "# ThingSpeak Credentials:\n",
    "SERVER = \"mqtt.thingspeak.com\"\n",
    "CHANNEL_ID = \"YOUR CHANNEL ID\"\n",
    "WRITE_API_KEY = \"YOUR API KEY\"\n",
    "PUB_TIME_SEC = 30  "
   ]
  },
  {
   "cell_type": "code",
   "execution_count": 39,
   "metadata": {},
   "outputs": [],
   "source": [
    "client = MQTTClient(\"umqtt_client\", SERVER)"
   ]
  },
  {
   "cell_type": "code",
   "execution_count": 40,
   "metadata": {},
   "outputs": [],
   "source": [
    "# Create the topic string\n",
    "topic = \"channels/\" + CHANNEL_ID + \"/publish/\" + WRITE_API_KEY"
   ]
  },
  {
   "cell_type": "code",
   "execution_count": 41,
   "metadata": {},
   "outputs": [],
   "source": [
    "# Read Sensors\n",
    "temp, hum, extTemp, lum, butSts = colectData()"
   ]
  },
  {
   "cell_type": "code",
   "execution_count": 42,
   "metadata": {},
   "outputs": [],
   "source": [
    "# Create a payload based on your Channel fields\n",
    "payload = \"field1=\"+str(temp)+\"&field2=\"+str(hum)+\"&field3=\"+str(extTemp)+\"&field4=\"+str(lum)+\"&field5=\"+str(butSts)"
   ]
  },
  {
   "cell_type": "code",
   "execution_count": 43,
   "metadata": {},
   "outputs": [],
   "source": [
    "# Sending data to ThingSpeak one time for test \n",
    "client.connect()\n",
    "client.publish(topic, payload)\n",
    "client.disconnect() "
   ]
  },
  {
   "cell_type": "markdown",
   "metadata": {},
   "source": [
    "---"
   ]
  },
  {
   "cell_type": "markdown",
   "metadata": {},
   "source": [
    "### Logging sensor data on ThingSpeak"
   ]
  },
  {
   "cell_type": "code",
   "execution_count": 44,
   "metadata": {},
   "outputs": [
    {
     "name": "stdout",
     "output_type": "stream",
     "text": [
      ".........\u001b[34m\n",
      "\n",
      "*** Sending Ctrl-C\n",
      "\n",
      "\u001b[0m"
     ]
    },
    {
     "name": "stderr",
     "output_type": "stream",
     "text": [
      "Traceback (most recent call last):\n",
      "  File \"<stdin>\", line 8, in <module>\n",
      "KeyboardInterrupt: \n"
     ]
    }
   ],
   "source": [
    "# Interrupt cell with \"Interrupt\" on Kernel Menu ([Ctrl]+[C]) to stop sending data \n",
    "while True:\n",
    "    temp, hum, extTemp, lum, butSts = colectData()\n",
    "    payload = \"field1=\"+str(temp)+\"&field2=\"+str(hum)+\"&field3=\"+str(extTemp)+\"&field4=\"+str(lum)+\"&field5=\"+str(butSts)\n",
    "    client.connect()\n",
    "    client.publish(topic, payload)\n",
    "    client.disconnect()\n",
    "    time.sleep(PUB_TIME_SEC)"
   ]
  },
  {
   "cell_type": "code",
   "execution_count": 45,
   "metadata": {},
   "outputs": [
    {
     "name": "stdout",
     "output_type": "stream",
     "text": [
      "................................................................."
     ]
    }
   ],
   "source": [
    "# loop getting data until button is pressed\n",
    "while button.value():\n",
    "        led.on()\n",
    "        temp, hum, extTemp, lum, butSts = colectData()\n",
    "        displayData(temp, hum, extTemp, lum, butSts)\n",
    "        led.off()\n",
    "        payload = \"field1=\"+str(temp)+\"&field2=\"+str(hum)+\"&field3=\"+str(extTemp)+\"&field4=\"+str(lum)+\"&field5=\"+str(butSts)\n",
    "        client.connect()\n",
    "        client.publish(topic, payload)\n",
    "        client.disconnect()\n",
    "        \n",
    "        time.sleep(PUB_TIME_SEC)\n",
    "blinkLed(3)\n",
    "displayClear()"
   ]
  },
  {
   "cell_type": "code",
   "execution_count": null,
   "metadata": {},
   "outputs": [],
   "source": []
  }
 ],
 "metadata": {
  "kernelspec": {
   "display_name": "MicroPython - USB",
   "language": "micropython",
   "name": "micropython"
  },
  "language_info": {
   "codemirror_mode": "python",
   "file_extension": ".py",
   "mimetype": "text/python",
   "name": "micropython"
  }
 },
 "nbformat": 4,
 "nbformat_minor": 2
}
