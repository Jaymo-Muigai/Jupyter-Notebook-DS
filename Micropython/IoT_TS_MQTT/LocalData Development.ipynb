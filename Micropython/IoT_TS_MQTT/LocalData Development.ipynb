{
 "cells": [
  {
   "cell_type": "markdown",
   "metadata": {},
   "source": [
    "# Local Sensors - Getting data"
   ]
  },
  {
   "cell_type": "markdown",
   "metadata": {},
   "source": [
    "### Assembly the Hw"
   ]
  },
  {
   "cell_type": "markdown",
   "metadata": {},
   "source": [
    "<p><img src=\"https://github.com/Mjrovai/Python4DS/blob/master/Micropython/IoT_TS_MQTT/electrDiagr.png?raw=true\"> </p>\n",
    "\n"
   ]
  },
  {
   "cell_type": "markdown",
   "metadata": {},
   "source": [
    "### Connect with ESP8266 via serial port"
   ]
  },
  {
   "cell_type": "code",
   "execution_count": 1,
   "metadata": {},
   "outputs": [
    {
     "name": "stdout",
     "output_type": "stream",
     "text": [
      "\u001b[34mConnecting to --port=/dev/tty.SLAB_USBtoUART --baud=115200 \u001b[0m\n",
      "\u001b[34mReady.\n",
      "\u001b[0m"
     ]
    }
   ],
   "source": [
    "%serialconnect to --port=/dev/tty.SLAB_USBtoUART --baud=115200"
   ]
  },
  {
   "cell_type": "markdown",
   "metadata": {},
   "source": [
    "### DHT Sensor"
   ]
  },
  {
   "cell_type": "code",
   "execution_count": 2,
   "metadata": {},
   "outputs": [],
   "source": [
    "from dht import DHT22\n",
    "from machine import Pin\n",
    "dht22 = DHT22(Pin(12))"
   ]
  },
  {
   "cell_type": "code",
   "execution_count": 3,
   "metadata": {},
   "outputs": [],
   "source": [
    "# Function to read DHT\n",
    "def readDht():\n",
    "    dht22.measure()\n",
    "    return dht22.temperature(), dht22.humidity()"
   ]
  },
  {
   "cell_type": "code",
   "execution_count": 4,
   "metadata": {},
   "outputs": [
    {
     "name": "stdout",
     "output_type": "stream",
     "text": [
      "(18.6, 41.8)\r\n"
     ]
    }
   ],
   "source": [
    "# test DHT function\n",
    "print (readDht())"
   ]
  },
  {
   "cell_type": "markdown",
   "metadata": {},
   "source": [
    "### DS18B20 sensor"
   ]
  },
  {
   "cell_type": "code",
   "execution_count": 5,
   "metadata": {},
   "outputs": [],
   "source": [
    "# Import libraries \n",
    "import onewire, ds18x20\n",
    "import time"
   ]
  },
  {
   "cell_type": "code",
   "execution_count": 6,
   "metadata": {},
   "outputs": [],
   "source": [
    "# Define which pin the 1-wire device will be connected ==> pin 2 (D4)\n",
    "dat = Pin(2)"
   ]
  },
  {
   "cell_type": "code",
   "execution_count": 7,
   "metadata": {},
   "outputs": [],
   "source": [
    "# create the onewire object\n",
    "ds = ds18x20.DS18X20(onewire.OneWire(dat))"
   ]
  },
  {
   "cell_type": "code",
   "execution_count": 8,
   "metadata": {},
   "outputs": [
    {
     "name": "stdout",
     "output_type": "stream",
     "text": [
      "found devices: [bytearray(b'(\\xff\\xd3\\xe6a\\x16\\x041')]\r\n"
     ]
    }
   ],
   "source": [
    "# scan for devices on the bus\n",
    "sensors = ds.scan()\n",
    "print('found devices:', sensors)"
   ]
  },
  {
   "cell_type": "code",
   "execution_count": 9,
   "metadata": {},
   "outputs": [],
   "source": [
    "# function to read DS18B20 \n",
    "def readDs(): \n",
    "    ds.convert_temp()\n",
    "    time.sleep_ms(750)\n",
    "    return round(ds.read_temp(sensors[0]), 1)"
   ]
  },
  {
   "cell_type": "code",
   "execution_count": 10,
   "metadata": {},
   "outputs": [
    {
     "name": "stdout",
     "output_type": "stream",
     "text": [
      "18.9\r\n"
     ]
    }
   ],
   "source": [
    "# test readDs function\n",
    "print(readDs())"
   ]
  },
  {
   "cell_type": "markdown",
   "metadata": {},
   "source": [
    "### LDR Sensor"
   ]
  },
  {
   "cell_type": "code",
   "execution_count": 11,
   "metadata": {},
   "outputs": [],
   "source": [
    "# import library\n",
    "from machine import ADC"
   ]
  },
  {
   "cell_type": "code",
   "execution_count": 12,
   "metadata": {},
   "outputs": [],
   "source": [
    "# Define object\n",
    "adc = ADC(0)"
   ]
  },
  {
   "cell_type": "code",
   "execution_count": 13,
   "metadata": {},
   "outputs": [
    {
     "name": "stdout",
     "output_type": "stream",
     "text": [
      "821\r\n"
     ]
    }
   ],
   "source": [
    "print(adc.read())"
   ]
  },
  {
   "cell_type": "code",
   "execution_count": 14,
   "metadata": {},
   "outputs": [],
   "source": [
    "#function to read luminosity\n",
    "def readLdr():\n",
    "    lumPerct = (adc.read()-40)*(10/86) # convert in percentage (\"map\")\n",
    "    return round(lumPerct)"
   ]
  },
  {
   "cell_type": "code",
   "execution_count": 15,
   "metadata": {},
   "outputs": [
    {
     "name": "stdout",
     "output_type": "stream",
     "text": [
      "91\r\n"
     ]
    }
   ],
   "source": [
    "# test LDR read function\n",
    "print (readLdr())"
   ]
  },
  {
   "cell_type": "markdown",
   "metadata": {},
   "source": [
    "### Button (Digital Input)"
   ]
  },
  {
   "cell_type": "code",
   "execution_count": 16,
   "metadata": {},
   "outputs": [],
   "source": [
    "# define pin 13 as an input and activate an internal Pull-up resistor:\n",
    "button = Pin(13, Pin.IN, Pin.PULL_UP)"
   ]
  },
  {
   "cell_type": "code",
   "execution_count": 17,
   "metadata": {},
   "outputs": [],
   "source": [
    "# Function to read button state:\n",
    "def readBut():\n",
    "        return button.value()"
   ]
  },
  {
   "cell_type": "code",
   "execution_count": 18,
   "metadata": {},
   "outputs": [
    {
     "name": "stdout",
     "output_type": "stream",
     "text": [
      "1\r\n"
     ]
    }
   ],
   "source": [
    "# test button read function\n",
    "print (readBut())"
   ]
  },
  {
   "cell_type": "markdown",
   "metadata": {},
   "source": [
    "### Define Function to collect sensor data"
   ]
  },
  {
   "cell_type": "code",
   "execution_count": 19,
   "metadata": {},
   "outputs": [],
   "source": [
    "def colectData():\n",
    "    temp, hum, = readDht()\n",
    "    extTemp = readDs()\n",
    "    lum = readLdr()\n",
    "    butSts = readBut()\n",
    "    return temp, hum, extTemp, lum, butSts"
   ]
  },
  {
   "cell_type": "code",
   "execution_count": 20,
   "metadata": {},
   "outputs": [
    {
     "name": "stdout",
     "output_type": "stream",
     "text": [
      "(18.7, 41.6, 18.9, 92, 1)\r\n"
     ]
    }
   ],
   "source": [
    "# test function\n",
    "print(colectData())"
   ]
  },
  {
   "cell_type": "markdown",
   "metadata": {},
   "source": [
    "### Displaying Data on OLED"
   ]
  },
  {
   "cell_type": "code",
   "execution_count": 21,
   "metadata": {},
   "outputs": [],
   "source": [
    "# import library and create object i2c\n",
    "from machine import I2C\n",
    "i2c = I2C(scl=Pin(5), sda=Pin(4))"
   ]
  },
  {
   "cell_type": "code",
   "execution_count": 22,
   "metadata": {},
   "outputs": [],
   "source": [
    "# import library and create object oled\n",
    "import ssd1306\n",
    "i2c = I2C(scl=Pin(5), sda=Pin(4))\n",
    "oled = ssd1306.SSD1306_I2C(128, 64, i2c, 0x3c)"
   ]
  },
  {
   "cell_type": "code",
   "execution_count": 23,
   "metadata": {},
   "outputs": [],
   "source": [
    "# test OLED\n",
    "oled.fill(0)\n",
    "oled.text(\"Hello esp8266\", 0, 0)\n",
    "oled.show()"
   ]
  },
  {
   "cell_type": "code",
   "execution_count": 24,
   "metadata": {},
   "outputs": [],
   "source": [
    "# Read Sensors\n",
    "temp, hum, extTemp, lum, butSts = colectData()"
   ]
  },
  {
   "cell_type": "code",
   "execution_count": 25,
   "metadata": {},
   "outputs": [],
   "source": [
    "# Show data on display once \n",
    "oled.fill(0)\n",
    "oled.text(\"Temp:    \" + str(temp) + \"oC\", 0, 4)\n",
    "oled.text(\"Hum:     \" + str(hum) + \"%\",0, 16)\n",
    "oled.text(\"ExtTemp: \" + str(extTemp) + \"oC\", 0, 29)\n",
    "oled.text(\"Lumin:   \" + str(lum) + \"%\", 0, 43)\n",
    "oled.text(\"Button:  \" + str(butSts), 0, 57)\n",
    "oled.show()"
   ]
  },
  {
   "cell_type": "code",
   "execution_count": 26,
   "metadata": {},
   "outputs": [],
   "source": [
    "# create a function to display data:\n",
    "def displayData(temp, hum, extTemp, lum, butSts):\n",
    "    oled.fill(0)\n",
    "    oled.text(\"Temp:    \" + str(temp) + \"oC\", 0, 4)\n",
    "    oled.text(\"Hum:     \" + str(hum) + \"%\",0, 16)\n",
    "    oled.text(\"ExtTemp: \" + str(extTemp) + \"oC\", 0, 29)\n",
    "    oled.text(\"Lumin:   \" + str(lum) + \"%\", 0, 43)\n",
    "    oled.text(\"Button:  \" + str(butSts), 0, 57)\n",
    "    oled.show()"
   ]
  },
  {
   "cell_type": "code",
   "execution_count": 27,
   "metadata": {},
   "outputs": [],
   "source": [
    "# define pin 0 as output\n",
    "led = Pin(0, Pin.OUT)"
   ]
  },
  {
   "cell_type": "code",
   "execution_count": 28,
   "metadata": {},
   "outputs": [],
   "source": [
    "# display data with a function\n",
    "led.on()\n",
    "temp, hum, extTemp, lum, butSts = colectData()\n",
    "displayData(temp, hum, extTemp, lum, butSts)\n",
    "led.off()"
   ]
  },
  {
   "cell_type": "code",
   "execution_count": 29,
   "metadata": {},
   "outputs": [],
   "source": [
    "# Clear display :\n",
    "def displayClear():\n",
    "    oled.fill(0)\n",
    "    oled.show()"
   ]
  },
  {
   "cell_type": "code",
   "execution_count": 30,
   "metadata": {},
   "outputs": [],
   "source": [
    "from time import sleep"
   ]
  },
  {
   "cell_type": "code",
   "execution_count": 31,
   "metadata": {},
   "outputs": [],
   "source": [
    "# create a blink function\n",
    "def blinkLed(num):\n",
    "    for i in range(0, num):\n",
    "        led.on()\n",
    "        sleep(0.5)\n",
    "        led.off()\n",
    "        sleep(0.5)"
   ]
  },
  {
   "cell_type": "code",
   "execution_count": 32,
   "metadata": {},
   "outputs": [],
   "source": [
    "PUB_TIME_SEC = 30"
   ]
  },
  {
   "cell_type": "code",
   "execution_count": 33,
   "metadata": {},
   "outputs": [
    {
     "name": "stdout",
     "output_type": "stream",
     "text": [
      "............."
     ]
    }
   ],
   "source": [
    "# loop getting data until button is pressed\n",
    "while button.value():\n",
    "        led.on()\n",
    "        temp, hum, extTemp, lum, butSts = colectData()\n",
    "        displayData(temp, hum, extTemp, lum, butSts)\n",
    "        led.off()\n",
    "        time.sleep(PUB_TIME_SEC)\n",
    "blinkLed(3)\n",
    "displayClear()"
   ]
  }
 ],
 "metadata": {
  "kernelspec": {
   "display_name": "MicroPython - USB",
   "language": "micropython",
   "name": "micropython"
  },
  "language_info": {
   "codemirror_mode": "python",
   "file_extension": ".py",
   "mimetype": "text/python",
   "name": "micropython"
  }
 },
 "nbformat": 4,
 "nbformat_minor": 2
}
